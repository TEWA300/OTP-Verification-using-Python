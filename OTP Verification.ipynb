{
 "cells": [
  {
   "cell_type": "code",
   "execution_count": null,
   "metadata": {},
   "outputs": [],
   "source": [
    "import os\n",
    "import math\n",
    "import random\n",
    "import smtplib"
   ]
  },
  {
   "cell_type": "code",
   "execution_count": null,
   "metadata": {},
   "outputs": [],
   "source": [
    "\n",
    "digits = \"0123456789\"\n",
    "OTP = \"\""
   ]
  },
  {
   "cell_type": "code",
   "execution_count": null,
   "metadata": {},
   "outputs": [],
   "source": [
    "#Create 6 digit random number and store it.\n",
    "for i in range(6):\n",
    "  OTP += digits[math.floor(random.random()*10)]\n",
    "\n",
    "#Standard message to send\n",
    "msg = OTP + \"is your OTP\"\n",
    "\n",
    "#Mail setup\n",
    "s = smtplib.SMTP('smtp.gmail.com', 587)\n",
    "s.starttls()\n",
    "\n",
    "#Google app password to be able to send emails using Gmail account\n",
    "s.login(\"Your gemail address\",\"Google app password\")\n",
    "\n",
    "#Send mail\n",
    "email = input(\"Enter your email ID\")\n",
    "s.sendmail('12345',email,msg)\n",
    "\n"
   ]
  },
  {
   "cell_type": "code",
   "execution_count": null,
   "metadata": {},
   "outputs": [],
   "source": [
    "res = input(\"Enter your OTP  >>: \")\n",
    "if res == OTP:\n",
    "  print(\"Verified\")\n",
    "else:\n",
    "  print(\"Check your OTP again\")"
   ]
  }
 ],
 "metadata": {
  "interpreter": {
   "hash": "29396a9934f511bd8d809bf8e730fec6847467b1c2b4c6d2a4c9b0e1cfbccf5d"
  },
  "kernelspec": {
   "display_name": "Python 3.10.0 64-bit",
   "language": "python",
   "name": "python3"
  },
  "language_info": {
   "name": "python",
   "version": "3.10.0"
  },
  "orig_nbformat": 4
 },
 "nbformat": 4,
 "nbformat_minor": 2
}
